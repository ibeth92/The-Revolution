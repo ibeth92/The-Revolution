{
 "cells": [
  {
   "cell_type": "code",
   "execution_count": 1,
   "metadata": {},
   "outputs": [],
   "source": [
    "#Import dependencies\n",
    "import tensorflow\n",
    "import librosa\n",
    "import librosa.display\n",
    "import numpy as np\n",
    "import matplotlib.pyplot as plt\n",
    "import os\n",
    "import pandas as pd"
   ]
  },
  {
   "cell_type": "markdown",
   "metadata": {},
   "source": [
    "Initial Creation of Test Spectrogram"
   ]
  },
  {
   "cell_type": "code",
   "execution_count": 2,
   "metadata": {},
   "outputs": [],
   "source": [
    "##cmap = plt.get_cmap('inferno')\n",
    "##y,sr = librosa.load(f'Resources/test3.wav', mono=True, duration=5)\n",
    "##plt.specgram(y, NFFT=2048, Fs=2, Fc=0, noverlap=128, cmap=cmap, sides='default', mode='default', scale='dB')\n",
    "##plt.savefig(f'Resources/test3[:-3].replace(\".\", \"\").png')"
   ]
  },
  {
   "cell_type": "markdown",
   "metadata": {},
   "source": [
    "Initial Creation of test CSV"
   ]
  },
  {
   "cell_type": "code",
   "execution_count": 3,
   "metadata": {},
   "outputs": [],
   "source": [
    "#import csv\n",
    "#song = f'Resources/test3.wav'\n",
    "\n",
    "#y, sr = librosa.load(song, mono=True, duration=25)\n",
    "#chroma_stft = librosa.feature.chroma_stft(y=y, sr=sr)\n",
    "#spec_cent = librosa.feature.spectral_centroid(y=y, sr=sr)\n",
    "#spec_bw = librosa.feature.spectral_bandwidth(y=y, sr=sr)\n",
    "#rolloff = librosa.feature.spectral_rolloff(y=y, sr=sr)\n",
    "#zcr = librosa.feature.zero_crossing_rate(y)\n",
    "#mfcc = librosa.feature.mfcc(y=y, sr=sr)\n",
    "#rmse = librosa.feature.rms(y=y)\n",
    "#to_append = f'{song} {np.mean(chroma_stft)} {np.mean(rmse)} {np.mean(spec_cent)} {np.mean(spec_bw)} {np.mean(rolloff)} {np.mean(zcr)}'    \n",
    "#for e in mfcc:\n",
    "    #to_append += f' {np.mean(e)}'\n",
    "#to_append += f' {song}'\n",
    "#file = open('test3.csv', 'a', newline='')\n",
    "#with file:\n",
    "        #writer = csv.writer(file)\n",
    "        #writer.writerow(to_append.split())"
   ]
  },
  {
   "cell_type": "code",
   "execution_count": 6,
   "metadata": {},
   "outputs": [
    {
     "data": {
      "text/html": [
       "<div>\n",
       "<style scoped>\n",
       "    .dataframe tbody tr th:only-of-type {\n",
       "        vertical-align: middle;\n",
       "    }\n",
       "\n",
       "    .dataframe tbody tr th {\n",
       "        vertical-align: top;\n",
       "    }\n",
       "\n",
       "    .dataframe thead th {\n",
       "        text-align: right;\n",
       "    }\n",
       "</style>\n",
       "<table border=\"1\" class=\"dataframe\">\n",
       "  <thead>\n",
       "    <tr style=\"text-align: right;\">\n",
       "      <th></th>\n",
       "      <th>Resources/test1.wav</th>\n",
       "      <th>0.5262829065322876</th>\n",
       "      <th>0.06446140259504318</th>\n",
       "      <th>1647.966712296149</th>\n",
       "      <th>2113.1420067007793</th>\n",
       "      <th>3532.5812844669117</th>\n",
       "      <th>0.04163156147875817</th>\n",
       "      <th>-248.60874938964844</th>\n",
       "      <th>117.4607925415039</th>\n",
       "      <th>-0.6181321144104004</th>\n",
       "      <th>...</th>\n",
       "      <th>8.735594749450684</th>\n",
       "      <th>-0.3118440508842468</th>\n",
       "      <th>3.1648850440979004</th>\n",
       "      <th>4.090549468994141</th>\n",
       "      <th>3.6192188262939453</th>\n",
       "      <th>5.740119457244873</th>\n",
       "      <th>8.600300788879395</th>\n",
       "      <th>4.581566333770752</th>\n",
       "      <th>8.975741386413574</th>\n",
       "      <th>Resources/test1.wav.1</th>\n",
       "    </tr>\n",
       "  </thead>\n",
       "  <tbody>\n",
       "    <tr>\n",
       "      <th>0</th>\n",
       "      <td>Resources/test1.wav</td>\n",
       "      <td>0.526283</td>\n",
       "      <td>0.064461</td>\n",
       "      <td>1647.966712</td>\n",
       "      <td>2113.142007</td>\n",
       "      <td>3532.581284</td>\n",
       "      <td>0.041632</td>\n",
       "      <td>-248.608749</td>\n",
       "      <td>117.460793</td>\n",
       "      <td>-0.618132</td>\n",
       "      <td>...</td>\n",
       "      <td>8.735595</td>\n",
       "      <td>-0.311844</td>\n",
       "      <td>3.164885</td>\n",
       "      <td>4.090549</td>\n",
       "      <td>3.619219</td>\n",
       "      <td>5.740119</td>\n",
       "      <td>8.600301</td>\n",
       "      <td>4.581566</td>\n",
       "      <td>8.975741</td>\n",
       "      <td>Resources/test1.wav</td>\n",
       "    </tr>\n",
       "  </tbody>\n",
       "</table>\n",
       "<p>1 rows × 28 columns</p>\n",
       "</div>"
      ],
      "text/plain": [
       "   Resources/test1.wav  0.5262829065322876  0.06446140259504318  \\\n",
       "0  Resources/test1.wav            0.526283             0.064461   \n",
       "\n",
       "   1647.966712296149  2113.1420067007793  3532.5812844669117  \\\n",
       "0        1647.966712         2113.142007         3532.581284   \n",
       "\n",
       "   0.04163156147875817  -248.60874938964844  117.4607925415039  \\\n",
       "0             0.041632          -248.608749         117.460793   \n",
       "\n",
       "   -0.6181321144104004  ...  8.735594749450684  -0.3118440508842468  \\\n",
       "0            -0.618132  ...           8.735595            -0.311844   \n",
       "\n",
       "   3.1648850440979004  4.090549468994141  3.6192188262939453  \\\n",
       "0            3.164885           4.090549            3.619219   \n",
       "\n",
       "   5.740119457244873  8.600300788879395  4.581566333770752  8.975741386413574  \\\n",
       "0           5.740119           8.600301           4.581566           8.975741   \n",
       "\n",
       "   Resources/test1.wav.1  \n",
       "0    Resources/test1.wav  \n",
       "\n",
       "[1 rows x 28 columns]"
      ]
     },
     "execution_count": 6,
     "metadata": {},
     "output_type": "execute_result"
    }
   ],
   "source": [
    "#show the test dataframe\n",
    "#test 1 is a hip hop song\n",
    "test1 = pd.read_csv('test.csv')\n",
    "test1.head()"
   ]
  },
  {
   "cell_type": "code",
   "execution_count": 8,
   "metadata": {},
   "outputs": [],
   "source": [
    "#drop unneccessary columns\n",
    "test1 = test1.drop(['Resources/test1.wav','Resources/test1.wav.1'],axis=1)"
   ]
  },
  {
   "cell_type": "code",
   "execution_count": 9,
   "metadata": {},
   "outputs": [],
   "source": [
    "# Load the neural network model\n",
    "from tensorflow.keras.models import load_model\n",
    "genre_model = load_model('genre_model_trained.h5')"
   ]
  },
  {
   "cell_type": "code",
   "execution_count": 10,
   "metadata": {},
   "outputs": [
    {
     "name": "stdout",
     "output_type": "stream",
     "text": [
      "Predicted genre: [[0. 0. 0. 0. 0. 1. 0. 0. 0. 0.]]\n"
     ]
    }
   ],
   "source": [
    "#print NN result\n",
    "print(f\"Predicted genre: {genre_model.predict(test1)}\")"
   ]
  },
  {
   "cell_type": "code",
   "execution_count": 11,
   "metadata": {},
   "outputs": [],
   "source": [
    "#load K Nearest Neighbor model\n",
    "import joblib\n",
    "filename = 'knn_model.sav'\n",
    "loaded_model = joblib.load(filename)"
   ]
  },
  {
   "cell_type": "code",
   "execution_count": 12,
   "metadata": {},
   "outputs": [
    {
     "name": "stdout",
     "output_type": "stream",
     "text": [
      "Predicted genre: ['pop']\n"
     ]
    }
   ],
   "source": [
    "#print KNN result\n",
    "print(f\"Predicted genre: {loaded_model.predict(test1)}\")"
   ]
  },
  {
   "cell_type": "code",
   "execution_count": 13,
   "metadata": {},
   "outputs": [],
   "source": [
    "#load SVC model\n",
    "filename2 = 'svc_model.sav'\n",
    "svc_model = joblib.load(filename2)"
   ]
  },
  {
   "cell_type": "code",
   "execution_count": 14,
   "metadata": {},
   "outputs": [
    {
     "name": "stdout",
     "output_type": "stream",
     "text": [
      "Predicted genre: ['classical']\n"
     ]
    }
   ],
   "source": [
    "#print SVC result\n",
    "print(f\"Predicted genre: {svc_model.predict(test1)}\")"
   ]
  },
  {
   "cell_type": "code",
   "execution_count": 15,
   "metadata": {},
   "outputs": [
    {
     "data": {
      "text/html": [
       "<div>\n",
       "<style scoped>\n",
       "    .dataframe tbody tr th:only-of-type {\n",
       "        vertical-align: middle;\n",
       "    }\n",
       "\n",
       "    .dataframe tbody tr th {\n",
       "        vertical-align: top;\n",
       "    }\n",
       "\n",
       "    .dataframe thead th {\n",
       "        text-align: right;\n",
       "    }\n",
       "</style>\n",
       "<table border=\"1\" class=\"dataframe\">\n",
       "  <thead>\n",
       "    <tr style=\"text-align: right;\">\n",
       "      <th></th>\n",
       "      <th>Resources/test2.wav</th>\n",
       "      <th>0.39345574378967285</th>\n",
       "      <th>0.23882731795310974</th>\n",
       "      <th>2572.993511237374</th>\n",
       "      <th>2548.210051150556</th>\n",
       "      <th>5450.693354407744</th>\n",
       "      <th>0.12294802660859613</th>\n",
       "      <th>-18.81410026550293</th>\n",
       "      <th>83.07771301269531</th>\n",
       "      <th>2.932054281234741</th>\n",
       "      <th>...</th>\n",
       "      <th>2.210960865020752</th>\n",
       "      <th>-3.2847206592559814</th>\n",
       "      <th>3.231117010116577</th>\n",
       "      <th>-2.9565393924713135</th>\n",
       "      <th>3.518548011779785</th>\n",
       "      <th>-3.6948812007904053</th>\n",
       "      <th>0.19558589160442352</th>\n",
       "      <th>-5.850969314575195</th>\n",
       "      <th>0.9666779041290283</th>\n",
       "      <th>Resources/test2.wav.1</th>\n",
       "    </tr>\n",
       "  </thead>\n",
       "  <tbody>\n",
       "    <tr>\n",
       "      <th>0</th>\n",
       "      <td>Resources/test2.wav</td>\n",
       "      <td>0.393456</td>\n",
       "      <td>0.238827</td>\n",
       "      <td>2572.993511</td>\n",
       "      <td>2548.210051</td>\n",
       "      <td>5450.693354</td>\n",
       "      <td>0.122948</td>\n",
       "      <td>-18.8141</td>\n",
       "      <td>83.077713</td>\n",
       "      <td>2.932054</td>\n",
       "      <td>...</td>\n",
       "      <td>2.210961</td>\n",
       "      <td>-3.284721</td>\n",
       "      <td>3.231117</td>\n",
       "      <td>-2.956539</td>\n",
       "      <td>3.518548</td>\n",
       "      <td>-3.694881</td>\n",
       "      <td>0.195586</td>\n",
       "      <td>-5.850969</td>\n",
       "      <td>0.966678</td>\n",
       "      <td>Resources/test2.wav</td>\n",
       "    </tr>\n",
       "  </tbody>\n",
       "</table>\n",
       "<p>1 rows × 28 columns</p>\n",
       "</div>"
      ],
      "text/plain": [
       "   Resources/test2.wav  0.39345574378967285  0.23882731795310974  \\\n",
       "0  Resources/test2.wav             0.393456             0.238827   \n",
       "\n",
       "   2572.993511237374  2548.210051150556  5450.693354407744  \\\n",
       "0        2572.993511        2548.210051        5450.693354   \n",
       "\n",
       "   0.12294802660859613  -18.81410026550293  83.07771301269531  \\\n",
       "0             0.122948            -18.8141          83.077713   \n",
       "\n",
       "   2.932054281234741  ...  2.210960865020752  -3.2847206592559814  \\\n",
       "0           2.932054  ...           2.210961            -3.284721   \n",
       "\n",
       "   3.231117010116577  -2.9565393924713135  3.518548011779785  \\\n",
       "0           3.231117            -2.956539           3.518548   \n",
       "\n",
       "   -3.6948812007904053  0.19558589160442352  -5.850969314575195  \\\n",
       "0            -3.694881             0.195586           -5.850969   \n",
       "\n",
       "   0.9666779041290283  Resources/test2.wav.1  \n",
       "0            0.966678    Resources/test2.wav  \n",
       "\n",
       "[1 rows x 28 columns]"
      ]
     },
     "execution_count": 15,
     "metadata": {},
     "output_type": "execute_result"
    }
   ],
   "source": [
    "#show the second test dataframe\n",
    "#second test clip is a country song\n",
    "test2 = pd.read_csv('test2.csv')\n",
    "test2.head()"
   ]
  },
  {
   "cell_type": "code",
   "execution_count": 16,
   "metadata": {},
   "outputs": [],
   "source": [
    "#drop unneccessary columns\n",
    "test2 = test2.drop(['Resources/test2.wav','Resources/test2.wav.1'],axis=1)"
   ]
  },
  {
   "cell_type": "code",
   "execution_count": 17,
   "metadata": {},
   "outputs": [
    {
     "name": "stdout",
     "output_type": "stream",
     "text": [
      "Predicted genre: [[0. 0. 0. 0. 0. 1. 0. 0. 0. 0.]]\n"
     ]
    }
   ],
   "source": [
    "#print NN result\n",
    "print(f\"Predicted genre: {genre_model.predict(test2)}\")"
   ]
  },
  {
   "cell_type": "code",
   "execution_count": 18,
   "metadata": {},
   "outputs": [
    {
     "name": "stdout",
     "output_type": "stream",
     "text": [
      "Predicted genre: ['pop']\n"
     ]
    }
   ],
   "source": [
    "#print KNN result\n",
    "print(f\"Predicted genre: {loaded_model.predict(test2)}\")"
   ]
  },
  {
   "cell_type": "code",
   "execution_count": 19,
   "metadata": {},
   "outputs": [
    {
     "name": "stdout",
     "output_type": "stream",
     "text": [
      "Predicted genre: ['hiphop']\n"
     ]
    }
   ],
   "source": [
    "#print SVC result\n",
    "print(f\"Predicted genre: {svc_model.predict(test2)}\")"
   ]
  },
  {
   "cell_type": "code",
   "execution_count": 20,
   "metadata": {},
   "outputs": [
    {
     "data": {
      "text/html": [
       "<div>\n",
       "<style scoped>\n",
       "    .dataframe tbody tr th:only-of-type {\n",
       "        vertical-align: middle;\n",
       "    }\n",
       "\n",
       "    .dataframe tbody tr th {\n",
       "        vertical-align: top;\n",
       "    }\n",
       "\n",
       "    .dataframe thead th {\n",
       "        text-align: right;\n",
       "    }\n",
       "</style>\n",
       "<table border=\"1\" class=\"dataframe\">\n",
       "  <thead>\n",
       "    <tr style=\"text-align: right;\">\n",
       "      <th></th>\n",
       "      <th>Resources/test3.wav</th>\n",
       "      <th>0.5522581338882446</th>\n",
       "      <th>0.2707630693912506</th>\n",
       "      <th>2722.4900875351136</th>\n",
       "      <th>2465.405917630929</th>\n",
       "      <th>5262.798817244081</th>\n",
       "      <th>0.13873444028551532</th>\n",
       "      <th>36.87339401245117</th>\n",
       "      <th>76.09146118164062</th>\n",
       "      <th>-23.255353927612305</th>\n",
       "      <th>...</th>\n",
       "      <th>10.92216682434082</th>\n",
       "      <th>-6.2744245529174805</th>\n",
       "      <th>4.043382167816162</th>\n",
       "      <th>-6.128615856170654</th>\n",
       "      <th>3.6322410106658936</th>\n",
       "      <th>-3.6120758056640625</th>\n",
       "      <th>0.8120295405387878</th>\n",
       "      <th>-1.4558213949203491</th>\n",
       "      <th>1.4006739854812622</th>\n",
       "      <th>Resources/test3.wav.1</th>\n",
       "    </tr>\n",
       "  </thead>\n",
       "  <tbody>\n",
       "    <tr>\n",
       "      <th>0</th>\n",
       "      <td>Resources/test3.wav</td>\n",
       "      <td>0.552258</td>\n",
       "      <td>0.270763</td>\n",
       "      <td>2722.490088</td>\n",
       "      <td>2465.405918</td>\n",
       "      <td>5262.798817</td>\n",
       "      <td>0.138734</td>\n",
       "      <td>36.873394</td>\n",
       "      <td>76.091461</td>\n",
       "      <td>-23.255354</td>\n",
       "      <td>...</td>\n",
       "      <td>10.922167</td>\n",
       "      <td>-6.274425</td>\n",
       "      <td>4.043382</td>\n",
       "      <td>-6.128616</td>\n",
       "      <td>3.632241</td>\n",
       "      <td>-3.612076</td>\n",
       "      <td>0.81203</td>\n",
       "      <td>-1.455821</td>\n",
       "      <td>1.400674</td>\n",
       "      <td>Resources/test3.wav</td>\n",
       "    </tr>\n",
       "  </tbody>\n",
       "</table>\n",
       "<p>1 rows × 28 columns</p>\n",
       "</div>"
      ],
      "text/plain": [
       "   Resources/test3.wav  0.5522581338882446  0.2707630693912506  \\\n",
       "0  Resources/test3.wav            0.552258            0.270763   \n",
       "\n",
       "   2722.4900875351136  2465.405917630929  5262.798817244081  \\\n",
       "0         2722.490088        2465.405918        5262.798817   \n",
       "\n",
       "   0.13873444028551532  36.87339401245117  76.09146118164062  \\\n",
       "0             0.138734          36.873394          76.091461   \n",
       "\n",
       "   -23.255353927612305  ...  10.92216682434082  -6.2744245529174805  \\\n",
       "0           -23.255354  ...          10.922167            -6.274425   \n",
       "\n",
       "   4.043382167816162  -6.128615856170654  3.6322410106658936  \\\n",
       "0           4.043382           -6.128616            3.632241   \n",
       "\n",
       "   -3.6120758056640625  0.8120295405387878  -1.4558213949203491  \\\n",
       "0            -3.612076             0.81203            -1.455821   \n",
       "\n",
       "   1.4006739854812622  Resources/test3.wav.1  \n",
       "0            1.400674    Resources/test3.wav  \n",
       "\n",
       "[1 rows x 28 columns]"
      ]
     },
     "execution_count": 20,
     "metadata": {},
     "output_type": "execute_result"
    }
   ],
   "source": [
    "#show the third test dataframe\n",
    "#third test clip is a metal song\n",
    "test3 = pd.read_csv('test3.csv')\n",
    "test3.head()"
   ]
  },
  {
   "cell_type": "code",
   "execution_count": 21,
   "metadata": {},
   "outputs": [],
   "source": [
    "#drop unneccessary columns\n",
    "test3 = test3.drop(['Resources/test3.wav','Resources/test3.wav.1'],axis=1)"
   ]
  },
  {
   "cell_type": "code",
   "execution_count": 22,
   "metadata": {},
   "outputs": [
    {
     "name": "stdout",
     "output_type": "stream",
     "text": [
      "Predicted genre: [[0. 0. 0. 0. 0. 1. 0. 0. 0. 0.]]\n"
     ]
    }
   ],
   "source": [
    "#print NN result\n",
    "print(f\"Predicted genre: {genre_model.predict(test3)}\")"
   ]
  },
  {
   "cell_type": "code",
   "execution_count": 23,
   "metadata": {},
   "outputs": [
    {
     "name": "stdout",
     "output_type": "stream",
     "text": [
      "Predicted genre: ['pop']\n"
     ]
    }
   ],
   "source": [
    "#print KNN result\n",
    "print(f\"Predicted genre: {loaded_model.predict(test3)}\")"
   ]
  },
  {
   "cell_type": "code",
   "execution_count": 24,
   "metadata": {},
   "outputs": [
    {
     "name": "stdout",
     "output_type": "stream",
     "text": [
      "Predicted genre: ['hiphop']\n"
     ]
    }
   ],
   "source": [
    "#print SVC result\n",
    "print(f\"Predicted genre: {svc_model.predict(test3)}\")"
   ]
  },
  {
   "cell_type": "code",
   "execution_count": 25,
   "metadata": {},
   "outputs": [
    {
     "data": {
      "text/html": [
       "<div>\n",
       "<style scoped>\n",
       "    .dataframe tbody tr th:only-of-type {\n",
       "        vertical-align: middle;\n",
       "    }\n",
       "\n",
       "    .dataframe tbody tr th {\n",
       "        vertical-align: top;\n",
       "    }\n",
       "\n",
       "    .dataframe thead th {\n",
       "        text-align: right;\n",
       "    }\n",
       "</style>\n",
       "<table border=\"1\" class=\"dataframe\">\n",
       "  <thead>\n",
       "    <tr style=\"text-align: right;\">\n",
       "      <th></th>\n",
       "      <th>Resources/test4.wav</th>\n",
       "      <th>0.4119454026222229</th>\n",
       "      <th>0.13116386532783508</th>\n",
       "      <th>1950.2112172252985</th>\n",
       "      <th>2497.5498732211813</th>\n",
       "      <th>4661.828511272633</th>\n",
       "      <th>0.06227104732474466</th>\n",
       "      <th>-153.0809326171875</th>\n",
       "      <th>100.41744232177734</th>\n",
       "      <th>35.23270034790039</th>\n",
       "      <th>...</th>\n",
       "      <th>1.9394689798355103</th>\n",
       "      <th>-2.211725950241089</th>\n",
       "      <th>-1.056040644645691</th>\n",
       "      <th>-3.9323813915252686</th>\n",
       "      <th>3.8970656394958496</th>\n",
       "      <th>-10.028227806091309</th>\n",
       "      <th>-0.8467472195625305</th>\n",
       "      <th>-5.5811052322387695</th>\n",
       "      <th>-5.633667469024658</th>\n",
       "      <th>Resources/test4.wav.1</th>\n",
       "    </tr>\n",
       "  </thead>\n",
       "  <tbody>\n",
       "    <tr>\n",
       "      <th>0</th>\n",
       "      <td>Resources/test4.wav</td>\n",
       "      <td>0.411945</td>\n",
       "      <td>0.131164</td>\n",
       "      <td>1950.211217</td>\n",
       "      <td>2497.549873</td>\n",
       "      <td>4661.828511</td>\n",
       "      <td>0.062271</td>\n",
       "      <td>-153.080933</td>\n",
       "      <td>100.417442</td>\n",
       "      <td>35.2327</td>\n",
       "      <td>...</td>\n",
       "      <td>1.939469</td>\n",
       "      <td>-2.211726</td>\n",
       "      <td>-1.056041</td>\n",
       "      <td>-3.932381</td>\n",
       "      <td>3.897066</td>\n",
       "      <td>-10.028228</td>\n",
       "      <td>-0.846747</td>\n",
       "      <td>-5.581105</td>\n",
       "      <td>-5.633667</td>\n",
       "      <td>Resources/test4.wav</td>\n",
       "    </tr>\n",
       "    <tr>\n",
       "      <th>1</th>\n",
       "      <td>Resources/test4.wav</td>\n",
       "      <td>0.411945</td>\n",
       "      <td>0.131164</td>\n",
       "      <td>1950.211217</td>\n",
       "      <td>2497.549873</td>\n",
       "      <td>4661.828511</td>\n",
       "      <td>0.062271</td>\n",
       "      <td>-153.080933</td>\n",
       "      <td>100.417442</td>\n",
       "      <td>35.2327</td>\n",
       "      <td>...</td>\n",
       "      <td>1.939469</td>\n",
       "      <td>-2.211726</td>\n",
       "      <td>-1.056041</td>\n",
       "      <td>-3.932381</td>\n",
       "      <td>3.897066</td>\n",
       "      <td>-10.028228</td>\n",
       "      <td>-0.846747</td>\n",
       "      <td>-5.581105</td>\n",
       "      <td>-5.633667</td>\n",
       "      <td>Resources/test4.wav</td>\n",
       "    </tr>\n",
       "  </tbody>\n",
       "</table>\n",
       "<p>2 rows × 28 columns</p>\n",
       "</div>"
      ],
      "text/plain": [
       "   Resources/test4.wav  0.4119454026222229  0.13116386532783508  \\\n",
       "0  Resources/test4.wav            0.411945             0.131164   \n",
       "1  Resources/test4.wav            0.411945             0.131164   \n",
       "\n",
       "   1950.2112172252985  2497.5498732211813  4661.828511272633  \\\n",
       "0         1950.211217         2497.549873        4661.828511   \n",
       "1         1950.211217         2497.549873        4661.828511   \n",
       "\n",
       "   0.06227104732474466  -153.0809326171875  100.41744232177734  \\\n",
       "0             0.062271         -153.080933          100.417442   \n",
       "1             0.062271         -153.080933          100.417442   \n",
       "\n",
       "   35.23270034790039  ...  1.9394689798355103  -2.211725950241089  \\\n",
       "0            35.2327  ...            1.939469           -2.211726   \n",
       "1            35.2327  ...            1.939469           -2.211726   \n",
       "\n",
       "   -1.056040644645691  -3.9323813915252686  3.8970656394958496  \\\n",
       "0           -1.056041            -3.932381            3.897066   \n",
       "1           -1.056041            -3.932381            3.897066   \n",
       "\n",
       "   -10.028227806091309  -0.8467472195625305  -5.5811052322387695  \\\n",
       "0           -10.028228            -0.846747            -5.581105   \n",
       "1           -10.028228            -0.846747            -5.581105   \n",
       "\n",
       "   -5.633667469024658  Resources/test4.wav.1  \n",
       "0           -5.633667    Resources/test4.wav  \n",
       "1           -5.633667    Resources/test4.wav  \n",
       "\n",
       "[2 rows x 28 columns]"
      ]
     },
     "execution_count": 25,
     "metadata": {},
     "output_type": "execute_result"
    }
   ],
   "source": [
    "#show the fourth test dataframe\n",
    "#fourth test clip is a reggae song\n",
    "test4 = pd.read_csv('test4.csv')\n",
    "test4.head()"
   ]
  },
  {
   "cell_type": "code",
   "execution_count": 26,
   "metadata": {},
   "outputs": [],
   "source": [
    "#drop unneccessary columns\n",
    "test4 = test4.drop(['Resources/test4.wav','Resources/test4.wav.1'],axis=1)"
   ]
  },
  {
   "cell_type": "code",
   "execution_count": 27,
   "metadata": {},
   "outputs": [
    {
     "name": "stdout",
     "output_type": "stream",
     "text": [
      "Predicted genre: [[0. 0. 0. 0. 0. 1. 0. 0. 0. 0.]\n",
      " [0. 0. 0. 0. 0. 1. 0. 0. 0. 0.]]\n"
     ]
    }
   ],
   "source": [
    "#print NN result\n",
    "print(f\"Predicted genre: {genre_model.predict(test4)}\")"
   ]
  },
  {
   "cell_type": "code",
   "execution_count": 28,
   "metadata": {},
   "outputs": [
    {
     "name": "stdout",
     "output_type": "stream",
     "text": [
      "Predicted genre: ['pop' 'pop']\n"
     ]
    }
   ],
   "source": [
    "#print KNN result\n",
    "print(f\"Predicted genre: {loaded_model.predict(test4)}\")"
   ]
  },
  {
   "cell_type": "code",
   "execution_count": 29,
   "metadata": {},
   "outputs": [
    {
     "name": "stdout",
     "output_type": "stream",
     "text": [
      "Predicted genre: ['country' 'country']\n"
     ]
    }
   ],
   "source": [
    "#print SVC result\n",
    "print(f\"Predicted genre: {svc_model.predict(test4)}\")"
   ]
  },
  {
   "cell_type": "code",
   "execution_count": null,
   "metadata": {},
   "outputs": [],
   "source": []
  }
 ],
 "metadata": {
  "kernelspec": {
   "display_name": "Python [conda env:PythonAdv] *",
   "language": "python",
   "name": "conda-env-PythonAdv-py"
  },
  "language_info": {
   "codemirror_mode": {
    "name": "ipython",
    "version": 3
   },
   "file_extension": ".py",
   "mimetype": "text/x-python",
   "name": "python",
   "nbconvert_exporter": "python",
   "pygments_lexer": "ipython3",
   "version": "3.6.12"
  }
 },
 "nbformat": 4,
 "nbformat_minor": 4
}
